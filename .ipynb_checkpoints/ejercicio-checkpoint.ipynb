{
 "cells": [
  {
   "cell_type": "code",
   "execution_count": null,
   "metadata": {},
   "outputs": [],
   "source": [
    "nombre = input (\"cual es tu nombre?: \")\n",
    "apellido = input (\"cual es tu apellido?: \")\n",
    "print (\"\\nComo estas? \" + nombre + \" \" + apellido + \", que bueno que estes por acá!\")\n",
    "\n",
    "print (\"\\nPresioná 'ENTER' para terminar el dialogo\")\n",
    "\n",
    "print (\"\\nChau \" *2 + \"!!!\")"
   ]
  },
  {
   "cell_type": "code",
   "execution_count": 39,
   "metadata": {},
   "outputs": [
    {
     "name": "stdout",
     "output_type": "stream",
     "text": [
      "Ingrese un nombre: Ivan\n",
      "cuanto pago?: 50\n",
      "Ingrese un nombre: Jero\n",
      "cuanto pago?: 50\n",
      "Ingrese un nombre: Mati\n",
      "cuanto pago?: 20\n",
      "\n",
      "El costo total es:  120\n",
      "cada uno pone  40.0\n",
      "A Ivan le deben 10\n"
     ]
    }
   ],
   "source": [
    "amigo1 = input (\"Ingrese un nombre: \")\n",
    "pago1 = int (input (\"cuanto pago?: \"))\n",
    "amigo2 = input (\"Ingrese un nombre: \")\n",
    "pago2 = int (input (\"cuanto pago?: \"))\n",
    "amigo3 = input (\"Ingrese un nombre: \")\n",
    "pago3 = int (input (\"cuanto pago?: \"))\n",
    "\n",
    "costo = int (pago1 ++ pago2 ++ pago3)\n",
    "\n",
    "print (\"\\nEl costo total es: \", costo)\n",
    "\n",
    "porPersona = (costo / 3)\n",
    "\n",
    "print (\"cada uno pone\", porPersona)\n",
    "\n",
    "if pago1 < porPersona:\n",
    "    resultado1 = int (porPersona - pago1)\n",
    "    print (amigo1, \"tiene que pagar \", resultado1 )\n",
    "else:\n",
    "        resultado1 = int (pago1 - porPersona)\n",
    "        print (\"A\", amigo1, \"le deben\", resultado1)"
   ]
  },
  {
   "cell_type": "code",
   "execution_count": null,
   "metadata": {},
   "outputs": [],
   "source": []
  },
  {
   "cell_type": "code",
   "execution_count": null,
   "metadata": {},
   "outputs": [],
   "source": []
  }
 ],
 "metadata": {
  "kernelspec": {
   "display_name": "Python 3",
   "language": "python",
   "name": "python3"
  },
  "language_info": {
   "codemirror_mode": {
    "name": "ipython",
    "version": 3
   },
   "file_extension": ".py",
   "mimetype": "text/x-python",
   "name": "python",
   "nbconvert_exporter": "python",
   "pygments_lexer": "ipython3",
   "version": "3.8.3"
  }
 },
 "nbformat": 4,
 "nbformat_minor": 4
}
